{
  "nbformat": 4,
  "nbformat_minor": 0,
  "metadata": {
    "colab": {
      "provenance": [],
      "authorship_tag": "ABX9TyM9fAlB83fnW8r/Hc1y7Wsv",
      "include_colab_link": true
    },
    "kernelspec": {
      "name": "python3",
      "display_name": "Python 3"
    },
    "language_info": {
      "name": "python"
    }
  },
  "cells": [
    {
      "cell_type": "markdown",
      "metadata": {
        "id": "view-in-github",
        "colab_type": "text"
      },
      "source": [
        "<a href=\"https://colab.research.google.com/github/KunalAyush1/CS229_learning/blob/main/GLMfromscratch.ipynb\" target=\"_parent\"><img src=\"https://colab.research.google.com/assets/colab-badge.svg\" alt=\"Open In Colab\"/></a>"
      ]
    },
    {
      "cell_type": "code",
      "execution_count": 1,
      "metadata": {
        "id": "p3hsfY2l_cWK"
      },
      "outputs": [],
      "source": [
        "import numpy as np"
      ]
    },
    {
      "cell_type": "code",
      "source": [
        "class GLM():\n",
        "    def __init__(self, family='gaussian', link=None, learning_rate=None, max_iterations=None, tol=1e-6, solver='gradient_descent'):\n",
        "        self.family = family\n",
        "        self.link_name = link\n",
        "        self.learning_rate = learning_rate\n",
        "        self.max_iterations = max_iterations if max_iterations is not None else 1000\n",
        "        self.tol = tol if tol is not None else 1e-6\n",
        "        self.solver = solver\n",
        "        self.beta = None\n",
        "\n",
        "        self._set_link_function()\n",
        "        self._set_default_learning_rate()\n",
        "\n",
        "    def _set_link_function(self):\n",
        "        if self.link_name == 'identity':\n",
        "            self.link_function = lambda mu: mu\n",
        "            self.inverse_link_function = lambda eta: eta\n",
        "        elif self.link_name == 'log':\n",
        "            self.link_function = lambda mu: np.log(mu)\n",
        "            self.inverse_link_function = lambda eta: np.exp(eta)\n",
        "        elif self.link_name == 'logit':\n",
        "            self.link_function = lambda mu: np.log(mu / (1 - mu))\n",
        "            self.inverse_link_function = lambda eta: 1 / (1 + np.exp(-eta))\n",
        "        elif self.link_name is None:\n",
        "            if self.family == 'gaussian':\n",
        "                self.link_function = lambda mu: mu\n",
        "                self.inverse_link_function = lambda eta: eta\n",
        "            elif self.family == 'binomial':\n",
        "                self.link_function = lambda mu: np.log(mu / (1 - mu))\n",
        "                self.inverse_link_function = lambda eta: 1 / (1 + np.exp(-eta))\n",
        "            elif self.family == 'poisson':\n",
        "                self.link_function = lambda mu: np.log(mu)\n",
        "                self.inverse_link_function = lambda eta: np.exp(eta)\n",
        "            else:\n",
        "                raise ValueError('Unsupported family')\n",
        "        else:\n",
        "            raise ValueError('Unsupported link function')\n",
        "\n",
        "    def _set_default_learning_rate(self):\n",
        "        if self.learning_rate is None:\n",
        "            if self.family in ['gaussian', 'binomial', 'poisson']:\n",
        "                self.learning_rate = 0.01\n",
        "            else:\n",
        "                raise ValueError('Unsupported family')\n",
        "\n",
        "    def fit(self, X, Y):\n",
        "        X = np.asarray(X)\n",
        "        Y = np.asarray(Y)\n",
        "        m, n = X.shape\n",
        "\n",
        "        self.beta = np.zeros(n)\n",
        "\n",
        "        for i in range(self.max_iterations):\n",
        "            eta = X @ self.beta\n",
        "            mu = self.inverse_link_function(eta)\n",
        "            grad = X.T @ (Y - mu) ### gradient of log-likelihood = X transpose(Y - mu)\n",
        "            self.beta += self.learning_rate * grad # gradient ascent(ascent not descent because we are maximising the log likelihood)\n",
        "\n",
        "            if np.linalg.norm(grad) < self.tol:\n",
        "                break # if converged...break\n",
        "\n",
        "    def predict(self, X):\n",
        "        X = np.asarray(X)\n",
        "        eta = X @ self.beta\n",
        "        mu = self.inverse_link_function(eta)\n",
        "        return mu\n",
        "\n",
        "    def predict_class(self, X, threshold=0.5):\n",
        "        if self.family != 'binomial':\n",
        "            raise ValueError(\"Classification only supported for binomial family.\")\n",
        "        probs = self.predict(X)\n",
        "        return (probs >= threshold).astype(int)"
      ],
      "metadata": {
        "id": "xYw05Sa2fkTs"
      },
      "execution_count": 3,
      "outputs": []
    },
    {
      "cell_type": "code",
      "source": [
        "\"\"\"\n",
        "A generalized linear model has a linear predictor eta = X * beta where beta is the model parameters\n",
        "\n",
        "a link function that is g(mu) = eta\n",
        "mu = g inverse of eta\n",
        "\n",
        "and a loss/likelihood of the parameters\n",
        "here we are using a log likelihood = log(p(y|x;beta))\n",
        "we need to maximise the log likelihood or minimise the negative log likelihood(ie loss) to gain the optimal model parameters\n",
        "\n",
        "\"\"\"\n",
        "\n",
        "\n"
      ],
      "metadata": {
        "colab": {
          "base_uri": "https://localhost:8080/",
          "height": 71
        },
        "id": "p_l7p-k6fNEC",
        "outputId": "9c841342-a280-41d9-d063-88741fd9e979"
      },
      "execution_count": 8,
      "outputs": [
        {
          "output_type": "execute_result",
          "data": {
            "text/plain": [
              "'\\nA generalized linear model has a linear predictor eta = X * beta where beta is the model parameters\\n\\na link function that is g(mu) = eta\\nmu = g inverse of eta\\n\\nand a loss/likelihood of the parameters\\nhere we are using a log likelihood = log(p(y|x;beta))\\nwe need to maximise the log likelihood or minimise the negative log likelihood(ie loss) to gain the optimal model parameters\\n\\n'"
            ],
            "application/vnd.google.colaboratory.intrinsic+json": {
              "type": "string"
            }
          },
          "metadata": {},
          "execution_count": 8
        }
      ]
    },
    {
      "cell_type": "code",
      "source": [],
      "metadata": {
        "id": "mA1_T4FinNAZ"
      },
      "execution_count": null,
      "outputs": []
    }
  ]
}