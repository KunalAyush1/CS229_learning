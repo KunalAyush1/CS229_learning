{
  "nbformat": 4,
  "nbformat_minor": 0,
  "metadata": {
    "colab": {
      "provenance": [],
      "authorship_tag": "ABX9TyPMog+XG1Qft67dv0/FwZL8",
      "include_colab_link": true
    },
    "kernelspec": {
      "name": "python3",
      "display_name": "Python 3"
    },
    "language_info": {
      "name": "python"
    }
  },
  "cells": [
    {
      "cell_type": "markdown",
      "metadata": {
        "id": "view-in-github",
        "colab_type": "text"
      },
      "source": [
        "<a href=\"https://colab.research.google.com/github/KunalAyush1/CS229_learning/blob/main/Perceptron.ipynb\" target=\"_parent\"><img src=\"https://colab.research.google.com/assets/colab-badge.svg\" alt=\"Open In Colab\"/></a>"
      ]
    },
    {
      "cell_type": "code",
      "execution_count": 1,
      "metadata": {
        "id": "j0HXqZPWfG6N"
      },
      "outputs": [],
      "source": [
        "import numpy as np"
      ]
    },
    {
      "cell_type": "code",
      "source": [
        "class Perceptron():\n",
        "    def __init__(self, learning_rate , no_of_iterations):\n",
        "      self.learning_rate = learning_rate\n",
        "      self.no_of_iterations = no_of_iterations\n",
        "\n",
        "    def fit(self, X , Y):\n",
        "      self.m , self.n = X.shape\n",
        "      self.w = np.zeros(self.n)\n",
        "      self.b = 0\n",
        "      self.X = X\n",
        "      self.Y = Y\n",
        "\n",
        "      for i in range(self.no_of_iterations):\n",
        "        self.update_weights()\n",
        "\n",
        "    def update_weights(self):\n",
        "      Y_hat = self.predict(self.X)\n",
        "\n",
        "      self.w = self.w + self.learning_rate * np.dot(self.X.T , (self.Y - Y_hat))\n",
        "      self.b = self.b + self.learning_rate * np.sum(self.Y - Y_hat)\n",
        "\n",
        "    def predict(self, X):\n",
        "      Y_hat = np.dot(X , self.w) + self.b\n",
        "      Y_hat = np.where(Y_hat > 0 , 1 , 0)\n",
        "      return Y_hat"
      ],
      "metadata": {
        "id": "zSlCoJfOfL6w"
      },
      "execution_count": 2,
      "outputs": []
    },
    {
      "cell_type": "code",
      "source": [],
      "metadata": {
        "id": "H697JtuChUpI"
      },
      "execution_count": null,
      "outputs": []
    }
  ]
}