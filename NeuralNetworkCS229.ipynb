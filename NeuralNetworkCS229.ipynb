{
  "nbformat": 4,
  "nbformat_minor": 0,
  "metadata": {
    "colab": {
      "provenance": [],
      "authorship_tag": "ABX9TyOGn6GmQkN+EFtRr4+eF4Kt",
      "include_colab_link": true
    },
    "kernelspec": {
      "name": "python3",
      "display_name": "Python 3"
    },
    "language_info": {
      "name": "python"
    }
  },
  "cells": [
    {
      "cell_type": "markdown",
      "metadata": {
        "id": "view-in-github",
        "colab_type": "text"
      },
      "source": [
        "<a href=\"https://colab.research.google.com/github/KunalAyush1/CS229_learning/blob/main/NeuralNetworkCS229.ipynb\" target=\"_parent\"><img src=\"https://colab.research.google.com/assets/colab-badge.svg\" alt=\"Open In Colab\"/></a>"
      ]
    },
    {
      "cell_type": "code",
      "execution_count": 1,
      "metadata": {
        "id": "ZsCFSq9OXGjL"
      },
      "outputs": [],
      "source": [
        "import numpy as np"
      ]
    },
    {
      "cell_type": "code",
      "source": [
        "def sigmoid(x):\n",
        "  return 1/(1 + np.exp(-x))"
      ],
      "metadata": {
        "id": "ZWnPtle3XK5A"
      },
      "execution_count": 2,
      "outputs": []
    },
    {
      "cell_type": "code",
      "source": [
        "def sigmoid_derivative(x):\n",
        "  s = sigmoid(x)\n",
        "  return s * (1 - s)"
      ],
      "metadata": {
        "id": "1HHKtTI9XVdy"
      },
      "execution_count": 3,
      "outputs": []
    },
    {
      "cell_type": "code",
      "source": [
        "def binary_cross_entropy(y_true, y_pred):\n",
        "  epsilon = 1e-8\n",
        "  return -np.mean(y_true * np.log(y_pred + epsilon) + (1 - y_true) * np.log(1 - y_pred + epsilon))"
      ],
      "metadata": {
        "id": "fbfvP0mAXiLB"
      },
      "execution_count": 4,
      "outputs": []
    },
    {
      "cell_type": "code",
      "source": [
        "def binary_cross_entropy_der(y_true, y_pred):\n",
        "  epsilon = 1e-8\n",
        "  return -np.mean(y_pred - y_true) / (y_pred + epsilon) * (1 - y_pred + epsilon)"
      ],
      "metadata": {
        "id": "l92ucP3nX_7F"
      },
      "execution_count": 5,
      "outputs": []
    },
    {
      "cell_type": "code",
      "source": [
        "def initialise_parameters(input_size):\n",
        "  np.random.seed(1)\n",
        "\n",
        "  return{\n",
        "      \"W1\": np.random.randn(3, input_size) * 0.01,\n",
        "      \"b1\": np.zeros((3,1)),\n",
        "      \"W2\": np.random.randn(2,3) * 0.01,\n",
        "      \"b2\": np.zeros((2,1)),\n",
        "      \"W3\": np.random.randn(1,2) * 0.01,\n",
        "      \"b3\": np.zeros((1,1))\n",
        "\n",
        "\n",
        "\n",
        "         }"
      ],
      "metadata": {
        "id": "93PXi6NSYjFC"
      },
      "execution_count": 6,
      "outputs": []
    },
    {
      "cell_type": "code",
      "source": [
        "def forward(X , params):\n",
        "  Z1 = np.dot(params[\"W1\"],X) + params[\"b1\"]\n",
        "  A1 = sigmoid(Z1)\n",
        "\n",
        "  Z2 = np.dot(params[\"W2\"],A1) + params[\"b2\"]\n",
        "  A2 = sigmoid(Z2)\n",
        "\n",
        "  Z3 = np.dot(params[\"W3\"],A2) + params['b3']\n",
        "  A3 = sigmoid(Z3)\n",
        "\n",
        "  cache = { \"Z1\": Z1 , \"A1\": A1 , \"Z2\": Z2, \"A2\": A2, \"Z3\": Z3, \"A3\":A3}\n",
        "\n",
        "  return A3,cache"
      ],
      "metadata": {
        "id": "a3hfi2NjZZ2_"
      },
      "execution_count": 8,
      "outputs": []
    },
    {
      "cell_type": "code",
      "source": [
        "def backward(X,Y,params,cache):\n",
        "  m = X.shape[1]\n",
        "\n",
        "  A1 , A2 , A3 = cache[\"A1\"] , cache[\"A2\"] , cache[\"A3\"]\n",
        "  Z1 , Z2 , Z3 = cache[\"Z1\"] , cache[\"Z2\"] , cache[\"Z3\"]\n",
        "\n",
        "  dZ3 = A3 - Y\n",
        "  dW3 = np.dot(dZ3, A2.T)\n",
        "  db3 = np.sum(dZ3, axis=1, keepdims=True)\n",
        "\n",
        "  dZ2 = np.dot(params[\"W3\"].T, dZ3) * sigmoid_derivative(Z2)\n",
        "  dW2 = np.dot(dZ2, A1.T)\n",
        "  db2 = np.sum(dZ2, axis=1, keepdims=True)\n",
        "\n",
        "  dZ1 = np.dot(params[\"W2\"].T, dZ2) * sigmoid_derivative(Z1)\n",
        "  dW1 = np.dot(dZ1, X.T)\n",
        "  db1 = np.sum(dZ1, axis=1, keepdims=True)\n",
        "\n",
        "  grads = {\"dW1\": dW1, \"db1\": db1, \"dW2\": dW2, \"db2\": db2, \"dW3\": dW3, \"db3\": db3}\n",
        "\n",
        "  return grads\n",
        "\n",
        "  return grads"
      ],
      "metadata": {
        "id": "n0gHsUh0ZdlC"
      },
      "execution_count": 39,
      "outputs": []
    },
    {
      "cell_type": "code",
      "source": [
        "def update_params(params, grads , learning_rate):\n",
        "  for key in params:\n",
        "    params[key] = params[key] - learning_rate * grads[\"d\" + key]\n",
        "  return params"
      ],
      "metadata": {
        "id": "Cp5OwWwRbPbK"
      },
      "execution_count": 40,
      "outputs": []
    },
    {
      "cell_type": "code",
      "source": [
        "def training(X , Y , epochs = 1000 , learning_rate = 0.01):\n",
        "  input_size = X.shape[0]\n",
        "  params = initialise_parameters(input_size)\n",
        "  for epoch in range(epochs):\n",
        "    A3 , cache = forward(X,params)\n",
        "    loss = binary_cross_entropy(Y,A3)\n",
        "    grads = backward(X,Y,params,cache)\n",
        "    params = update_params(params,grads,learning_rate)\n",
        "\n",
        "    if epoch % 100 == 0:\n",
        "      print(f\"Epoch {epoch} - Loss:{loss:.4f}\")\n",
        "\n",
        "  return params"
      ],
      "metadata": {
        "id": "HPU6dRbSb6jR"
      },
      "execution_count": 41,
      "outputs": []
    },
    {
      "cell_type": "code",
      "source": [
        "def predict(X ,Y, params):\n",
        "  A3 , _ = forward(X,params)\n",
        "  predictions = (A3 > 0.5).astype(int)\n",
        "  accuracy = np.mean(predictions == Y)\n",
        "  print(f\"Accuracy: {accuracy * 100:.2f}%\")\n",
        "  return predictions"
      ],
      "metadata": {
        "id": "rlIL6y_acjiV"
      },
      "execution_count": 59,
      "outputs": []
    },
    {
      "cell_type": "code",
      "source": [
        "import h5py\n",
        "import numpy as np\n",
        "import matplotlib.pyplot as plt"
      ],
      "metadata": {
        "id": "reqVLHjscmWP"
      },
      "execution_count": 60,
      "outputs": []
    },
    {
      "cell_type": "code",
      "source": [
        "def load_dataset():\n",
        "  train_dataset = h5py.File(\"train_catvnoncat.h5\",\"r\")\n",
        "  test_dataset = h5py.File(\"test_catvnoncat.h5\",\"r\")\n",
        "  train_x_orig = np.array(train_dataset[\"train_set_x\"][:])\n",
        "  train_y_orig = np.array(train_dataset[\"train_set_y\"][:])\n",
        "  test_x_orig = np.array(test_dataset[\"test_set_x\"][:])\n",
        "  test_y_orig = np.array(test_dataset[\"test_set_y\"][:])\n",
        "\n",
        "  classes = np.array(test_dataset[\"list_classes\"][:])\n",
        "\n",
        "  return train_x_orig , train_y_orig , test_x_orig , test_y_orig , classes\n",
        "\n"
      ],
      "metadata": {
        "id": "pOj1UIlKeJt7"
      },
      "execution_count": 61,
      "outputs": []
    },
    {
      "cell_type": "code",
      "source": [
        "train_x_orig , train_y_orig , test_x_orig , test_y_orig , classes = load_dataset()\n",
        "\n",
        "print(train_x_orig.shape)\n",
        "print(train_y_orig.shape)\n",
        "print(test_x_orig.shape)\n",
        "print(test_y_orig.shape)\n",
        "print(classes)"
      ],
      "metadata": {
        "colab": {
          "base_uri": "https://localhost:8080/"
        },
        "id": "m3b5HFJtffnt",
        "outputId": "4dff3c01-4d6f-4a6a-8fc8-97603bcf66c6"
      },
      "execution_count": 62,
      "outputs": [
        {
          "output_type": "stream",
          "name": "stdout",
          "text": [
            "(209, 64, 64, 3)\n",
            "(209,)\n",
            "(50, 64, 64, 3)\n",
            "(50,)\n",
            "[b'non-cat' b'cat']\n"
          ]
        }
      ]
    },
    {
      "cell_type": "code",
      "source": [
        "index = 25\n",
        "plt.imshow(train_x_orig[index])\n",
        "plt.title(f\"Label: {classes[train_y_orig[index]].decode()}\")\n",
        "plt.axis('off')\n",
        "plt.show()"
      ],
      "metadata": {
        "colab": {
          "base_uri": "https://localhost:8080/",
          "height": 428
        },
        "id": "Xrng4qbVgY9E",
        "outputId": "f0ac4698-a8d8-4f48-f5b7-f306ff4b2873"
      },
      "execution_count": 63,
      "outputs": [
        {
          "output_type": "display_data",
          "data": {
            "text/plain": [
              "<Figure size 640x480 with 1 Axes>"
            ],
            "image/png": "[encoded data removed]"
          },
          "metadata": {}
        }
      ]
    },
    {
      "cell_type": "code",
      "source": [
        "train_x_flatten = train_x_orig.reshape(train_x_orig.shape[0], -1).T\n",
        "test_x_flatten = test_x_orig.reshape(test_x_orig.shape[0], -1).T\n",
        "\n",
        "train_x = train_x_flatten / 255.0\n",
        "test_x = test_x_flatten / 255.0\n",
        "\n",
        "train_y = train_y_orig.reshape(1, train_y_orig.shape[0])\n",
        "test_y = test_y_orig.reshape(1, test_y_orig.shape[0])"
      ],
      "metadata": {
        "id": "6d6rjL0bg5Te"
      },
      "execution_count": 64,
      "outputs": []
    },
    {
      "cell_type": "code",
      "source": [
        "print(train_x.shape)\n",
        "print(test_y.shape)"
      ],
      "metadata": {
        "colab": {
          "base_uri": "https://localhost:8080/"
        },
        "id": "8K-ABqs-iLDS",
        "outputId": "58c9b549-20c5-4b9d-f314-ca1fc34d7084"
      },
      "execution_count": 65,
      "outputs": [
        {
          "output_type": "stream",
          "name": "stdout",
          "text": [
            "(12288, 209)\n",
            "(1, 50)\n"
          ]
        }
      ]
    },
    {
      "cell_type": "code",
      "source": [
        "trained_params = training(train_x , train_y , epochs = 1000 , learning_rate = 0.01)"
      ],
      "metadata": {
        "colab": {
          "base_uri": "https://localhost:8080/"
        },
        "id": "-kyLL0QKiSrh",
        "outputId": "b00c92e6-7443-4c8a-ae07-01df7f5eccdd"
      },
      "execution_count": 66,
      "outputs": [
        {
          "output_type": "stream",
          "name": "stdout",
          "text": [
            "Epoch 0 - Loss:0.6933\n",
            "Epoch 100 - Loss:0.6412\n",
            "Epoch 200 - Loss:0.6276\n",
            "Epoch 300 - Loss:0.5870\n",
            "Epoch 400 - Loss:0.5750\n",
            "Epoch 500 - Loss:0.4514\n",
            "Epoch 600 - Loss:0.5992\n",
            "Epoch 700 - Loss:0.5134\n",
            "Epoch 800 - Loss:0.5839\n",
            "Epoch 900 - Loss:0.6240\n"
          ]
        }
      ]
    },
    {
      "cell_type": "code",
      "source": [
        "train_preds = predict(train_x ,train_y, trained_params)\n",
        "test_preds = predict(test_x ,test_y, trained_params)"
      ],
      "metadata": {
        "colab": {
          "base_uri": "https://localhost:8080/"
        },
        "id": "wzjhmqwPjABJ",
        "outputId": "848ab1cd-1be3-455a-c00a-cb1fcb60d4f0"
      },
      "execution_count": 68,
      "outputs": [
        {
          "output_type": "stream",
          "name": "stdout",
          "text": [
            "Accuracy: 65.55%\n",
            "Accuracy: 34.00%\n"
          ]
        }
      ]
    },
    {
      "cell_type": "code",
      "source": [
        "import matplotlib.pyplot as plt\n",
        "\n",
        "index = 20\n",
        "\n",
        "\n",
        "plt.imshow(test_x_orig[index])\n",
        "\n",
        "\n",
        "actual_index = test_y_orig[0, index] if test_y_orig.ndim == 2 else test_y_orig[index]\n",
        "actual_label = classes[actual_index].decode(\"utf-8\")\n",
        "\n",
        "\n",
        "predicted_label = \"cat\" if test_preds[0, index] == 1 else \"non-cat\"\n",
        "\n",
        "\n",
        "plt.title(f\"Predicted: {predicted_label}, Actual: {actual_label}\")\n",
        "plt.axis('off')\n",
        "plt.show()"
      ],
      "metadata": {
        "colab": {
          "base_uri": "https://localhost:8080/",
          "height": 428
        },
        "id": "1GOMbO4DksyY",
        "outputId": "d7d977e5-ff43-4cf6-a70e-0f0625eb9258"
      },
      "execution_count": 82,
      "outputs": [
        {
          "output_type": "display_data",
          "data": {
            "text/plain": [
              "<Figure size 640x480 with 1 Axes>"
            ],
            "image/png": "[encoded data removed]"
          },
          "metadata": {}
        }
      ]
    },
    {
      "cell_type": "code",
      "source": [],
      "metadata": {
        "id": "oVQY6cZGlQ72"
      },
      "execution_count": null,
      "outputs": []
    }
  ]
}